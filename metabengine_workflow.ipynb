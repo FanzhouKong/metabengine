{
 "cells": [
  {
   "cell_type": "markdown",
   "metadata": {},
   "source": [
    "# Metabolomics data processing by *metabengine*\n",
    "\n",
    "Welcome to ```metabengine```!\n",
    "\n",
    "* ```metabengine``` aims to provide tools for the accurate and reproducible metabolomics data processing. Informed by ion identity, ```metabengine``` groups millions of ions in liquid chromatography-mass spectrometry (LC-MS) data for generating a list of unique chemical species.\n",
    "\n",
    "* Artificial neural network (ANN) is employed in ```metabengine``` to automatically interpret chromatographic peak shapes, labeling the high-quality features with Gaussian-shaped peak for reliable quantitative analysis.\n",
    "\n",
    "* ```metabengine``` also labels isotope, adducts, and in-source fragments based on peak-peak correlation and tandem MS/MS spectra (if available)."
   ]
  },
  {
   "cell_type": "markdown",
   "metadata": {},
   "source": [
    "## Section 1 | Untargeted metabolomics workflow (Data-dependent acquisition)\n",
    "\n",
    "This section demonstrates the most commonly used untargeted metabolomics data processing workflow. The goal is to extract features from raw LC-MS data with quantitative information and annotation.\n",
    "\n",
    "The proposed workflow contains five steps:\n",
    "\n",
    "1. saklfjals\n",
    "\n",
    "2. dsafadsf"
   ]
  },
  {
   "cell_type": "code",
   "execution_count": null,
   "metadata": {},
   "outputs": [],
   "source": []
  }
 ],
 "metadata": {
  "language_info": {
   "name": "python"
  },
  "orig_nbformat": 4
 },
 "nbformat": 4,
 "nbformat_minor": 2
}
